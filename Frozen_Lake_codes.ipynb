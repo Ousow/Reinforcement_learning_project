{
 "cells": [
  {
   "cell_type": "markdown",
   "id": "78b14db3-975f-4f78-afb0-6507a33a74bd",
   "metadata": {},
   "source": [
    "# **Projet d'Apprentissage Renforcé : Frozen Lake avec Q-Learning**"
   ]
  },
  {
   "cell_type": "markdown",
   "id": "6a10fbfd-0f44-471b-80bd-f91f81b1f1fb",
   "metadata": {},
   "source": [
    "## Introduction\n",
    "Ce projet utilise le Q-learning pour naviguer l'environnement 'Frozen Lake'. L'objectif est de former un agent capable de trouver le chemin optimal en évitant les pièges et obstacles. Ce projet inclut des cases spéciales comme les murs, power-ups et pièges, qui modifient les récompenses de l'agent."
   ]
  },
  {
   "cell_type": "markdown",
   "id": "68394ace-fd30-4845-a6a7-0645418e7541",
   "metadata": {},
   "source": [
    "## Importation des Bibliothèques\n",
    "Cette section charge toutes les bibliothèques nécessaires pour le projet."
   ]
  },
  {
   "cell_type": "code",
   "execution_count": 3,
   "id": "90fcdaf8-158c-4b1c-9e68-cc04ee4c6c31",
   "metadata": {},
   "outputs": [
    {
     "name": "stdout",
     "output_type": "stream",
     "text": [
      "Requirement already satisfied: matplotlib in c:\\users\\natha\\anaconda3\\lib\\site-packages (3.9.2)\n",
      "Requirement already satisfied: contourpy>=1.0.1 in c:\\users\\natha\\anaconda3\\lib\\site-packages (from matplotlib) (1.2.0)\n",
      "Requirement already satisfied: cycler>=0.10 in c:\\users\\natha\\anaconda3\\lib\\site-packages (from matplotlib) (0.11.0)\n",
      "Requirement already satisfied: fonttools>=4.22.0 in c:\\users\\natha\\anaconda3\\lib\\site-packages (from matplotlib) (4.51.0)\n",
      "Requirement already satisfied: kiwisolver>=1.3.1 in c:\\users\\natha\\anaconda3\\lib\\site-packages (from matplotlib) (1.4.4)\n",
      "Requirement already satisfied: numpy>=1.23 in c:\\users\\natha\\anaconda3\\lib\\site-packages (from matplotlib) (1.26.4)\n",
      "Requirement already satisfied: packaging>=20.0 in c:\\users\\natha\\anaconda3\\lib\\site-packages (from matplotlib) (23.2)\n",
      "Requirement already satisfied: pillow>=8 in c:\\users\\natha\\anaconda3\\lib\\site-packages (from matplotlib) (10.3.0)\n",
      "Requirement already satisfied: pyparsing>=2.3.1 in c:\\users\\natha\\anaconda3\\lib\\site-packages (from matplotlib) (3.0.9)\n",
      "Requirement already satisfied: python-dateutil>=2.7 in c:\\users\\natha\\anaconda3\\lib\\site-packages (from matplotlib) (2.9.0.post0)\n",
      "Requirement already satisfied: six>=1.5 in c:\\users\\natha\\anaconda3\\lib\\site-packages (from python-dateutil>=2.7->matplotlib) (1.16.0)\n",
      "Requirement already satisfied: seaborn in c:\\users\\natha\\anaconda3\\lib\\site-packages (0.13.2)\n",
      "Requirement already satisfied: numpy!=1.24.0,>=1.20 in c:\\users\\natha\\anaconda3\\lib\\site-packages (from seaborn) (1.26.4)\n",
      "Requirement already satisfied: pandas>=1.2 in c:\\users\\natha\\anaconda3\\lib\\site-packages (from seaborn) (2.2.2)\n",
      "Requirement already satisfied: matplotlib!=3.6.1,>=3.4 in c:\\users\\natha\\anaconda3\\lib\\site-packages (from seaborn) (3.9.2)\n",
      "Requirement already satisfied: contourpy>=1.0.1 in c:\\users\\natha\\anaconda3\\lib\\site-packages (from matplotlib!=3.6.1,>=3.4->seaborn) (1.2.0)\n",
      "Requirement already satisfied: cycler>=0.10 in c:\\users\\natha\\anaconda3\\lib\\site-packages (from matplotlib!=3.6.1,>=3.4->seaborn) (0.11.0)\n",
      "Requirement already satisfied: fonttools>=4.22.0 in c:\\users\\natha\\anaconda3\\lib\\site-packages (from matplotlib!=3.6.1,>=3.4->seaborn) (4.51.0)\n",
      "Requirement already satisfied: kiwisolver>=1.3.1 in c:\\users\\natha\\anaconda3\\lib\\site-packages (from matplotlib!=3.6.1,>=3.4->seaborn) (1.4.4)\n",
      "Requirement already satisfied: packaging>=20.0 in c:\\users\\natha\\anaconda3\\lib\\site-packages (from matplotlib!=3.6.1,>=3.4->seaborn) (23.2)\n",
      "Requirement already satisfied: pillow>=8 in c:\\users\\natha\\anaconda3\\lib\\site-packages (from matplotlib!=3.6.1,>=3.4->seaborn) (10.3.0)\n",
      "Requirement already satisfied: pyparsing>=2.3.1 in c:\\users\\natha\\anaconda3\\lib\\site-packages (from matplotlib!=3.6.1,>=3.4->seaborn) (3.0.9)\n",
      "Requirement already satisfied: python-dateutil>=2.7 in c:\\users\\natha\\anaconda3\\lib\\site-packages (from matplotlib!=3.6.1,>=3.4->seaborn) (2.9.0.post0)\n",
      "Requirement already satisfied: pytz>=2020.1 in c:\\users\\natha\\anaconda3\\lib\\site-packages (from pandas>=1.2->seaborn) (2024.1)\n",
      "Requirement already satisfied: tzdata>=2022.7 in c:\\users\\natha\\anaconda3\\lib\\site-packages (from pandas>=1.2->seaborn) (2023.3)\n",
      "Requirement already satisfied: six>=1.5 in c:\\users\\natha\\anaconda3\\lib\\site-packages (from python-dateutil>=2.7->matplotlib!=3.6.1,>=3.4->seaborn) (1.16.0)\n"
     ]
    }
   ],
   "source": [
    "# Installer Gym pour l'environnement Frozen Lake\n",
    "!!pip install gym\n",
    "\n",
    "# Installer Matplotlib pour les visualisations de courbes\n",
    "!pip install matplotlib\n",
    "\n",
    "\n",
    "# (Optionnel) Installer Seaborn si vous souhaitez utiliser des cartes de chaleur pour visualiser la Q-table\n",
    "!pip install seaborn\n"
   ]
  },
  {
   "cell_type": "code",
   "execution_count": 1,
   "id": "151131ec-a83e-4ebd-ad45-e0a4927a3b01",
   "metadata": {},
   "outputs": [],
   "source": [
    "## Initialisation des Bibliothèques\n",
    "import gym\n",
    "import numpy as np\n",
    "import pygame\n",
    "import random\n",
    "import warnings\n",
    "import matplotlib.pyplot as plt\n",
    "import sys"
   ]
  },
  {
   "cell_type": "markdown",
   "id": "412f9029-4e7b-42e3-be34-f9dab609e28b",
   "metadata": {},
   "source": [
    "## Creation de l'environment de base"
   ]
  },
  {
   "cell_type": "markdown",
   "id": "43409226-6498-4d2a-ac29-038a55e72908",
   "metadata": {},
   "source": [
    "Dans cette section, nous allons présenter l'environnement de base Frozen Lake avant les modifications effectuées. L'environnement est initialisé avec la version par défaut de FrozenLake-v1, qui inclut une surface glissante (is_slippery=True), rendant les mouvements de l'agent moins prévisibles. Le paramètre render_mode='human' permet de visualiser la simulation en temps réel."
   ]
  },
  {
   "cell_type": "code",
   "execution_count": 9,
   "id": "a7013298-abb2-43ce-b460-8ec503b127bd",
   "metadata": {},
   "outputs": [],
   "source": [
    "# Create the Frozen Lake environment\n",
    "env = gym.make('FrozenLake-v1', render_mode='human', is_slippery=True) "
   ]
  },
  {
   "cell_type": "markdown",
   "id": "74b309e0-043b-4752-98b4-7425abd77e11",
   "metadata": {},
   "source": [
    "## Interaction avec l'environment"
   ]
  },
  {
   "cell_type": "markdown",
   "id": "886538bd-37c2-4f55-9225-db11e4cf3c66",
   "metadata": {},
   "source": [
    "Le programme jouera 10 parties (épisodes) de Frozen Lake. Chaque itération correspond à un nouvel épisode et remet l'environnement à son état initial et reçoit l'état de départ (state).\n",
    "\n",
    "Ensuite, il envoie l'action à l'environnement, qui retourne le nouvel état (next_state), la récompense obtenue (reward), et des indicateurs (terminated, truncated) indiquant si l'épisode est terminé.\n",
    "\n",
    "La récompense est ajoutée à total_reward, et l'état est mis à jour. Fin d'épisode et affichage des résultats :\n",
    "\n",
    "Affiche le score total de l'agent pour cet épisode."
   ]
  },
  {
   "cell_type": "code",
   "execution_count": 13,
   "id": "ca0d7b75-fecd-44fd-851b-cbe1a8e69e84",
   "metadata": {},
   "outputs": [
    {
     "name": "stderr",
     "output_type": "stream",
     "text": [
      "C:\\Users\\natha\\anaconda3\\Lib\\site-packages\\gym\\utils\\passive_env_checker.py:233: DeprecationWarning: `np.bool8` is a deprecated alias for `np.bool_`.  (Deprecated NumPy 1.24)\n",
      "  if not isinstance(terminated, (bool, np.bool8)):\n"
     ]
    },
    {
     "name": "stdout",
     "output_type": "stream",
     "text": [
      "Episode 1 finished with total reward: 0.0\n",
      "Episode 2 finished with total reward: 0.0\n",
      "Episode 3 finished with total reward: 0.0\n",
      "Episode 4 finished with total reward: 0.0\n",
      "Episode 5 finished with total reward: 0.0\n",
      "Episode 6 finished with total reward: 0.0\n",
      "Episode 7 finished with total reward: 0.0\n",
      "Episode 8 finished with total reward: 0.0\n",
      "Episode 9 finished with total reward: 0.0\n",
      "Episode 10 finished with total reward: 0.0\n"
     ]
    }
   ],
   "source": [
    "# Number of episodes\n",
    "num_episodes = 10\n",
    "\n",
    "for episode in range(num_episodes):\n",
    "    state, info = env.reset()  # Reset the environment for a new episode (note: `info` is now returned)\n",
    "    done = False\n",
    "    total_reward = 0\n",
    "    \n",
    "    while not done:\n",
    "        env.render()  # Display the environment\n",
    "        action = env.action_space.sample()  # Select a random action\n",
    "        next_state, reward, terminated, truncated, info = env.step(action)  # Take action\n",
    "        \n",
    "        total_reward += reward  # Accumulate the reward\n",
    "        state = next_state  # Update the state\n",
    "        done = terminated or truncated  # Update the done flag\n",
    "\n",
    "    print(f\"Episode {episode + 1} finished with total reward: {total_reward}\")\n",
    "\n",
    "# Close the environment after usage\n",
    "env.close()"
   ]
  },
  {
   "cell_type": "markdown",
   "id": "62fc1a6b-c15f-4225-ae6a-ae4a565d23ce",
   "metadata": {},
   "source": [
    "## Implémentation de l'Algorithme de Q-learning"
   ]
  },
  {
   "cell_type": "markdown",
   "id": "395f08d1-bd7e-48a4-bb56-d289445397ec",
   "metadata": {},
   "source": [
    "## Étape 1 : Initialiser et visualiser l’environnement"
   ]
  },
  {
   "cell_type": "markdown",
   "id": "3893b639-df85-4ae8-ba92-f9dc0b8aff69",
   "metadata": {},
   "source": [
    "Objectif : Créer et afficher un environnement personnalisé pour Frozen Lake, incluant des obstacles et des éléments spéciaux, et ajouter des fonctionnalités pour permettre la visualisation en temps réel de l’agent dans cet environnement."
   ]
  },
  {
   "cell_type": "code",
   "execution_count": 2,
   "id": "5564c113-a16b-4ef2-af8f-1ee129988ee3",
   "metadata": {},
   "outputs": [
    {
     "data": {
      "text/plain": [
       "2000"
      ]
     },
     "execution_count": 2,
     "metadata": {},
     "output_type": "execute_result"
    }
   ],
   "source": [
    "# Initialisation de l'environnement Frozen Lake sans glissement\n",
    "# L'environnement est une grille 4x4 avec des éléments spécifiques :\n",
    "# - S : Point de départ\n",
    "# - F : Surface glacée (case traversable sans danger)\n",
    "# - H : Trous (fin de l'épisode si l'agent y tombe)\n",
    "# - W : Murs (bloquent le passage)\n",
    "# - P : Power-up (récompense bonus)\n",
    "# - T : Piège (pénalité)\n",
    "# - G : Objectif à atteindre pour gagner\n",
    "env = gym.make(\"FrozenLake-v1\", is_slippery=False)\n",
    "env.reset()\n",
    "\n",
    "# Définir les dimensions et couleurs harmonisées\n",
    "WIDTH, HEIGHT = 400, 400\n",
    "TILE_SIZE = WIDTH // 4\n",
    "COLORS = {\n",
    "    \"S\": (255, 182, 193),  # Départ (rose pâle)\n",
    "    \"F\": (173, 216, 230),  # Surface glacée (bleu clair)\n",
    "    \"H\": (25, 25, 112),    # Trou (bleu foncé)\n",
    "    \"G\": (255, 223, 0),    # Objectif (jaune clair)\n",
    "    \"W\": (100, 149, 237),  # Mur (bleu-gris)\n",
    "    \"P\": (135, 206, 250),  # Power-up (turquoise clair)\n",
    "    \"T\": (70, 130, 180)    # Piège (bleu acier)\n",
    "}\n",
    "\n",
    "# Nouvelle grille personnalisée avec la disposition mise à jour\n",
    "custom_grid = np.array([\n",
    "    [\"S\", \"F\", \"W\", \"F\"],\n",
    "    [\"F\", \"H\", \"F\", \"T\"],\n",
    "    [\"F\", \"F\", \"H\", \"P\"],\n",
    "    [\"H\", \"F\", \"F\", \"G\"]\n",
    "])\n",
    "\n",
    "# Initialisation de Pygame et de la police, et chargement des images\n",
    "pygame.init()\n",
    "pygame.font.init()\n",
    "font = pygame.font.Font(None, 36)\n",
    "screen = pygame.display.set_mode((WIDTH, HEIGHT))\n",
    "pygame.display.set_caption(\"Frozen Lake\")\n",
    "\n",
    "# Charger et ajuster les images\n",
    "try:\n",
    "    flag_img = pygame.image.load(\"flag.png\").convert_alpha()\n",
    "    robot_img = pygame.image.load(\"robot.png\").convert_alpha()\n",
    "    flag_img = pygame.transform.scale(flag_img, (TILE_SIZE, TILE_SIZE))\n",
    "    robot_img = pygame.transform.scale(robot_img, (TILE_SIZE, TILE_SIZE))\n",
    "except FileNotFoundError:\n",
    "    print(\"Assurez-vous que les images 'flag.png' et 'robot.png' sont dans le dossier.\")\n",
    "    pygame.quit()\n",
    "    exit()\n",
    "\n",
    "# Fonction pour dessiner la grille et positionner l'agent\n",
    "def draw_custom_grid(agent_pos=None):\n",
    "    for i in range(4):\n",
    "        for j in range(4):\n",
    "            tile_type = custom_grid[i, j]\n",
    "            color = COLORS.get(tile_type, (255, 255, 255))\n",
    "            pygame.draw.rect(screen, color, (j * TILE_SIZE, i * TILE_SIZE, TILE_SIZE, TILE_SIZE))\n",
    "            pygame.draw.rect(screen, (0, 0, 0), (j * TILE_SIZE, i * TILE_SIZE, TILE_SIZE, TILE_SIZE), 1)\n",
    "\n",
    "            # Afficher le drapeau pour l'objectif\n",
    "            if tile_type == \"G\":\n",
    "                screen.blit(flag_img, (j * TILE_SIZE, i * TILE_SIZE))\n",
    "            else:\n",
    "                letter = font.render(tile_type, True, (0, 0, 0))\n",
    "                screen.blit(letter, (j * TILE_SIZE + 10, i * TILE_SIZE + 10))\n",
    "\n",
    "    # Positionner l'agent\n",
    "    if agent_pos is not None:\n",
    "        x, y = agent_pos % 4, agent_pos // 4\n",
    "        screen.blit(robot_img, (x * TILE_SIZE, y * TILE_SIZE))\n",
    "\n",
    "# Afficher la grille initialement\n",
    "draw_custom_grid(agent_pos=0)\n",
    "pygame.display.flip()\n",
    "pygame.time.delay(2000)\n"
   ]
  },
  {
   "cell_type": "markdown",
   "id": "81c79b8f-2378-4ae8-b545-c485c3b3f360",
   "metadata": {},
   "source": [
    "## Étape 2 : Boucle pour le déplacement aléatoire de l'agent"
   ]
  },
  {
   "cell_type": "markdown",
   "id": "db85e3b7-e716-45d8-8f3e-b9c2a84bc449",
   "metadata": {},
   "source": [
    "Pour tester l’affichage, créons une boucle simple où l’agent choisit une action aléatoire et se déplace dans la grille. Cela permet de voir l'agent se déplacer visuellement en temps réel."
   ]
  },
  {
   "cell_type": "code",
   "execution_count": 3,
   "id": "0a5e9a69-1112-4607-8226-005d0135ab77",
   "metadata": {},
   "outputs": [
    {
     "name": "stderr",
     "output_type": "stream",
     "text": [
      "C:\\Users\\natha\\anaconda3\\envs\\test_env\\lib\\site-packages\\gym\\utils\\passive_env_checker.py:233: DeprecationWarning: `np.bool8` is a deprecated alias for `np.bool_`.  (Deprecated NumPy 1.24)\n",
      "  if not isinstance(terminated, (bool, np.bool8)):\n"
     ]
    }
   ],
   "source": [
    "# Boucle principale pour le déplacement aléatoire de l'agent sans connaissance a priori des murs\n",
    "running = True\n",
    "state = env.reset()  # Initialise l'état initial de l'environnement\n",
    "max_moves = 20  # Limite le nombre de déplacements aléatoires de l'agent pour éviter des boucles infinies\n",
    "moves = 0  # Compteur pour le nombre de déplacements effectués\n",
    "\n",
    "while running and moves < max_moves:\n",
    "    for event in pygame.event.get():\n",
    "        if event.type == pygame.QUIT:\n",
    "            running = False\n",
    "\n",
    "    # Choisir une action aléatoire\n",
    "    action = env.action_space.sample()  # L'agent choisit une action aléatoire\n",
    "\n",
    "    # Effectuer le déplacement\n",
    "    new_state, reward, done, truncated, _ = env.step(action)\n",
    "    if isinstance(new_state, tuple):  # Pour gérer les cas où l'environnement retourne un tuple\n",
    "        new_state = new_state[0]\n",
    "\n",
    "    # Vérifier si la nouvelle position est un mur\n",
    "    row, col = new_state // 4, new_state % 4  # Convertir l'état en coordonnées de grille\n",
    "    if custom_grid[row, col] == \"W\":  # Si c'est un mur\n",
    "        new_state = state  # Maintenir l'agent dans sa position actuelle si un mur bloque le chemin\n",
    "\n",
    "    # Effacer l'écran et redessiner la grille avec la nouvelle position de l'agent\n",
    "    screen.fill((0, 0, 0))\n",
    "    draw_custom_grid(agent_pos=new_state)  # Fonction pour dessiner la grille et positionner l'agent\n",
    "    pygame.display.flip()  # Met à jour l'affichage de la fenêtre\n",
    "    pygame.time.delay(300)  # Pause pour observer le déplacement de l'agent\n",
    "\n",
    "    # Met à jour l'état seulement si l'agent n'a pas été bloqué par un mur\n",
    "    state = new_state\n",
    "    moves += 1\n",
    "\n",
    "    # Réinitialiser si l'agent atteint l'objectif ou tombe dans un piège\n",
    "    if done or truncated:\n",
    "        state = env.reset()\n",
    "        moves = 0  # Réinitialise le compteur de déplacements pour un nouvel essai\n",
    "\n",
    "pygame.quit()\n"
   ]
  },
  {
   "cell_type": "markdown",
   "id": "19f3cb7e-2173-4e46-9748-7e6ed99e29bc",
   "metadata": {},
   "source": [
    "## Étape 3: Entraînement de l’Agent\n",
    "L'agent s'entraîne sur un nombre d'épisodes donné pour apprendre à naviguer dans l'environnement Frozen Lake. Des métriques comme les récompenses cumulatives et les taux de réussite sont suivies pour évaluer l'amélioration.\n",
    "\n",
    "### Initialisation de la table Q et configuration des paramètres d'apprentissage\n",
    "\n",
    "Dans cette étape, on va initialiser une table Q qui associe chaque état (position de l'agent) à une valeur pour chaque action possible (haut, bas, gauche, droite). Cette table sera mise à jour à chaque étape de l'apprentissage.\n",
    "On va également configurer les paramètres essentiels pour Q-learning, y compris la stratégie d’exploration ε-greedy.\n",
    "- Learning Rate (learning_rate) : Contrôle l'importance de chaque mise à jour (0.1 ici) et détermine à quel point les nouvelles informations (récompenses) influencent les valeurs de la table Q.\n",
    "- Discount Factor (discount_factor) : Pondère les récompenses futures. Un facteur proche de 1 encourage l'agent à valoriser les récompenses futures.\n",
    "- Exploration Rate (exploration_rate) :  Commence à 1 pour favoriser l'exploration au début et décroît au fil des épisodes pour que l'agent exploite ses connaissances vers la fin de l'apprentissage. Cela aide l'agent à explorer l'environnement au début et à se concentrer sur les actions optimales après avoir acquis une certaine expérience."
   ]
  },
  {
   "cell_type": "code",
   "execution_count": 4,
   "id": "42772968-3369-4147-85b1-b38053f251d5",
   "metadata": {},
   "outputs": [
    {
     "name": "stdout",
     "output_type": "stream",
     "text": [
      "Table Q initiale avant l'apprentissage :\n",
      "[[0. 0. 0. 0.]\n",
      " [0. 0. 0. 0.]\n",
      " [0. 0. 0. 0.]\n",
      " [0. 0. 0. 0.]\n",
      " [0. 0. 0. 0.]\n",
      " [0. 0. 0. 0.]\n",
      " [0. 0. 0. 0.]\n",
      " [0. 0. 0. 0.]\n",
      " [0. 0. 0. 0.]\n",
      " [0. 0. 0. 0.]\n",
      " [0. 0. 0. 0.]\n",
      " [0. 0. 0. 0.]\n",
      " [0. 0. 0. 0.]\n",
      " [0. 0. 0. 0.]\n",
      " [0. 0. 0. 0.]\n",
      " [0. 0. 0. 0.]]\n"
     ]
    }
   ],
   "source": [
    "# Initialiser la table Q avec des zéros\n",
    "# La table Q a une dimension (nombre d'états x nombre d'actions) pour stocker les valeurs de chaque action possible dans chaque état\n",
    "qtable = np.zeros((env.observation_space.n, env.action_space.n))\n",
    "# Afficher la table Q initiale\n",
    "print(\"Table Q initiale avant l'apprentissage :\")\n",
    "print(qtable)\n",
    "\n",
    "# Paramètres d'apprentissage\n",
    "learning_rate = 0.1      # Alpha - Taux d'apprentissage (contrôle la vitesse d'ajustement des valeurs de la table Q)\n",
    "discount_factor = 0.95   # Gamma - Facteur de discount (prend en compte les récompenses futures)\n",
    "exploration_rate = 1.0   # Epsilon initial - Taux d'exploration (définit la probabilité d'explorer au début)\n",
    "max_exploration_rate = 1.0   # Valeur maximale pour epsilon\n",
    "min_exploration_rate = 0.01  # Valeur minimale pour epsilon\n",
    "exploration_decay_rate = 0.001  # Taux de décroissance de l'exploration pour réduire epsilon au fil du temps\n",
    "num_episodes = 5000           # Nombre d'épisodes d'apprentissage\n",
    "max_steps_per_episode = 100    # Nombre maximum de pas par épisode\n",
    "\n",
    "# Explication des choix des paramètres\n",
    "# - learning_rate (alpha) est fixé à 0.1 pour que chaque mise à jour prenne en compte 10% de la nouvelle information.\n",
    "# - discount_factor (gamma) est élevé (0.95) pour valoriser les récompenses futures, essentiel pour atteindre l'objectif.\n",
    "# - exploration_rate (epsilon) commence à 1 pour que l'agent explore au maximum au début et diminue progressivement.\n",
    "\n",
    "# Initialiser les listes pour enregistrer les pas par épisode et la valeur epsilon-greedy\n",
    "steps_total = []\n",
    "egreedy_total = []"
   ]
  },
  {
   "cell_type": "markdown",
   "id": "8d35d30e-37cf-4411-a4d1-6bfd4ce5c15b",
   "metadata": {},
   "source": [
    "### Boucle d’apprentissage Q-learning"
   ]
  },
  {
   "cell_type": "markdown",
   "id": "f321adaa-7770-47fb-958c-eab8662d6507",
   "metadata": {},
   "source": [
    "**Objectif** : Exécuter plusieurs épisodes d’apprentissage pour que l’agent puisse explorer l’environnement, mettre à jour la table Q et apprendre la meilleure stratégie."
   ]
  },
  {
   "cell_type": "code",
   "execution_count": 5,
   "id": "a2a27b27-5d38-4b72-9547-17ff1767f057",
   "metadata": {},
   "outputs": [],
   "source": [
    "# Initialisation des listes pour suivre les performances: stocker les récompenses et le nombre de pas par épisode\n",
    "rewards_total = []\n",
    "steps_total = []\n",
    "egreedy_total = []\n",
    "\n",
    "# Boucle d'apprentissage Q-learning\n",
    "for episode in range(num_episodes):\n",
    "    # Réinitialisation de l'état au début de chaque épisode\n",
    "    state = env.reset()\n",
    "    if isinstance(state, tuple):  # Conversion de l'état en entier pour indexer la table Q\n",
    "        state = state[0]\n",
    "    done = False\n",
    "    step_count = 0  # Initialiser le compteur de pas pour cet épisode\n",
    "    episode_reward = 0  # Récompense cumulative pour cet épisode\n",
    "\n",
    "    # Boucle interne pour chaque pas dans un épisode\n",
    "    for step in range(max_steps_per_episode):\n",
    "        # Stratégie epsilon-greedy pour choisir l'action\n",
    "        if random.uniform(0, 1) < exploration_rate:\n",
    "            action = env.action_space.sample()  # Action aléatoire\n",
    "        else:\n",
    "            action = np.argmax(qtable[state])  # Action optimale connue\n",
    "\n",
    "        # Exécuter l'action et observer le nouvel état et la récompense\n",
    "        new_state, reward, done, truncated, _ = env.step(action)\n",
    "        if isinstance(new_state, tuple):\n",
    "            new_state = new_state[0]\n",
    "\n",
    "        # Ajustement des récompenses pour chaque type de case\n",
    "        row, col = new_state // 4, new_state % 4  # Conversion de l'index de l'état en coordonnées de la grille\n",
    "        cell_type = custom_grid[row, col]\n",
    "\n",
    "        if cell_type == \"G\":   # Objectif atteint\n",
    "            reward = 10  # Récompense suffisamment élevée pour un succès\n",
    "        elif cell_type == \"H\": # Trou\n",
    "            reward = -10\n",
    "        elif cell_type == \"P\": # Power-up\n",
    "            reward = 1.5\n",
    "        elif cell_type == \"T\": # Piège\n",
    "            reward = -1\n",
    "        elif cell_type == \"W\": # Mur\n",
    "            reward = -0.5  # Pas de déplacement si un mur est détecté\n",
    "            new_state = state  # L'agent reste sur sa case actuelle\n",
    "\n",
    "        # Mise à jour de la table Q (équation de Bellman)\n",
    "        qtable[state, action] = qtable[state, action] + learning_rate * \\\n",
    "            (reward + discount_factor * np.max(qtable[new_state]) - qtable[state, action])\n",
    "\n",
    "        # Transition vers le nouvel état\n",
    "        state = new_state\n",
    "        episode_reward += reward  # Accumuler la récompense\n",
    "        step_count += 1  # Incrémenter le compteur de pas\n",
    "\n",
    "        # Fin de l'épisode si l'agent atteint l'objectif ou tombe dans un trou\n",
    "        if done:\n",
    "            break\n",
    "\n",
    "    # Enregistrer la récompense totale, le nombre de pas et la valeur epsilon-greedy pour cet épisode\n",
    "    rewards_total.append(episode_reward)\n",
    "    steps_total.append(step_count)\n",
    "    egreedy_total.append(exploration_rate)\n",
    "\n",
    "    # Décroissance de epsilon pour favoriser l'exploitation en fin d'apprentissage\n",
    "    exploration_rate = min_exploration_rate + \\\n",
    "        (max_exploration_rate - min_exploration_rate) * np.exp(-exploration_decay_rate * episode)\n"
   ]
  },
  {
   "cell_type": "code",
   "execution_count": 6,
   "id": "e7b461d7-d521-48c2-94b3-7416a4218b54",
   "metadata": {},
   "outputs": [
    {
     "name": "stdout",
     "output_type": "stream",
     "text": [
      "Table Q après l'apprentissage :\n",
      "[[  7.35   7.74   6.98   7.35]\n",
      " [  7.35  -9.25   5.17   6.57]\n",
      " [  0.     0.     0.     0.  ]\n",
      " [  2.68  -0.8    0.     0.15]\n",
      " [  7.74   8.15 -10.     7.35]\n",
      " [  0.     0.     0.     0.  ]\n",
      " [ -6.67  -3.98  -0.75  -1.01]\n",
      " [  0.     0.     0.     0.  ]\n",
      " [  8.15 -10.     8.57   7.74]\n",
      " [  8.15   9.02  -0.98 -10.  ]\n",
      " [  8.09   9.5    1.45  -0.69]\n",
      " [  0.     0.     0.     0.  ]\n",
      " [  0.     0.     0.     0.  ]\n",
      " [-10.     9.02   9.5    8.57]\n",
      " [  9.02   9.5   10.    -0.98]\n",
      " [  0.     0.     0.     0.  ]]\n"
     ]
    }
   ],
   "source": [
    "# Imprimer la table Q après l'apprentissage\n",
    "print(\"Table Q après l'apprentissage :\")\n",
    "print(np.round(qtable, 2))\n",
    "# Interprétation de la Table Q après l'apprentissage\n",
    "# La table Q représente les valeurs d'action optimales pour chaque état.\n",
    "# Chaque ligne correspond à un état de l'environnement, et chaque colonne représente une action :\n",
    "# 0 = haut, 1 = droite, 2 = bas, 3 = gauche.\n",
    "# \n",
    "# - Des valeurs Q élevées (proches de 10) indiquent des actions préférées par l'agent,\n",
    "#   souvent celles qui mènent vers l'objectif ou des zones avantageuses.\n",
    "# - Les valeurs négatives ou proches de zéro indiquent des actions que l'agent évite, \n",
    "#   comme celles menant à des trous (H) ou à des pièges (T).\n",
    "# \n",
    "# Pour chaque état, l'agent choisira l'action avec la valeur Q la plus élevée pour maximiser\n",
    "# sa récompense, en évitant les obstacles et en se dirigeant vers l'objectif."
   ]
  },
  {
   "cell_type": "code",
   "execution_count": 8,
   "id": "51ae5a21-8566-4c0b-a74b-6d152e5c30c1",
   "metadata": {},
   "outputs": [
    {
     "name": "stdout",
     "output_type": "stream",
     "text": [
      "Percent of episodes finished successfully: 4.93%\n",
      "Percent of episodes finished successfully (last 100 episodes): 9.60%\n",
      "Average number of steps: 6.63\n",
      "Average number of steps (last 100 episodes): 6.07\n"
     ]
    }
   ],
   "source": [
    "#Afficher les statistiques de l'apprentissage\n",
    "print(\"Percent of episodes finished successfully: {0:.2f}%\".format(sum(rewards_total) / num_episodes))\n",
    "print(\"Percent of episodes finished successfully (last 100 episodes): {0:.2f}%\".format(sum(rewards_total[-100:]) / 100))\n",
    "\n",
    "print(\"Average number of steps: %.2f\" % (sum(steps_total) / num_episodes))\n",
    "print(\"Average number of steps (last 100 episodes): %.2f\" % (sum(steps_total[-100:]) / 100))"
   ]
  },
  {
   "cell_type": "code",
   "execution_count": 7,
   "id": "843f0346-a0f6-432f-918e-bc93b8a1dcb6",
   "metadata": {},
   "outputs": [
    {
     "name": "stdout",
     "output_type": "stream",
     "text": [
      "\n",
      "Épisode 1 :\n",
      "Étape 1 : État 0, Action 1, Nouvel État 4, Récompense 0.0\n",
      "Étape 2 : État 4, Action 1, Nouvel État 8, Récompense 0.0\n",
      "Étape 3 : État 8, Action 2, Nouvel État 9, Récompense 0.0\n",
      "Étape 4 : État 9, Action 1, Nouvel État 13, Récompense 0.0\n",
      "Étape 5 : État 13, Action 2, Nouvel État 14, Récompense 0.0\n",
      "Étape 6 : État 14, Action 2, Nouvel État 15, Récompense 10\n",
      "Objectif atteint !\n",
      "\n",
      "Épisode 2 :\n",
      "Étape 1 : État 0, Action 1, Nouvel État 4, Récompense 0.0\n",
      "Étape 2 : État 4, Action 1, Nouvel État 8, Récompense 0.0\n",
      "Étape 3 : État 8, Action 2, Nouvel État 9, Récompense 0.0\n",
      "Étape 4 : État 9, Action 1, Nouvel État 13, Récompense 0.0\n",
      "Étape 5 : État 13, Action 2, Nouvel État 14, Récompense 0.0\n",
      "Étape 6 : État 14, Action 2, Nouvel État 15, Récompense 10\n",
      "Objectif atteint !\n",
      "\n",
      "Épisode 3 :\n",
      "Étape 1 : État 0, Action 1, Nouvel État 4, Récompense 0.0\n",
      "Étape 2 : État 4, Action 1, Nouvel État 8, Récompense 0.0\n",
      "Étape 3 : État 8, Action 2, Nouvel État 9, Récompense 0.0\n",
      "Étape 4 : État 9, Action 1, Nouvel État 13, Récompense 0.0\n",
      "Étape 5 : État 13, Action 2, Nouvel État 14, Récompense 0.0\n",
      "Étape 6 : État 14, Action 2, Nouvel État 15, Récompense 10\n",
      "Objectif atteint !\n",
      "\n",
      "Épisode 4 :\n",
      "Étape 1 : État 0, Action 1, Nouvel État 4, Récompense 0.0\n",
      "Étape 2 : État 4, Action 1, Nouvel État 8, Récompense 0.0\n",
      "Étape 3 : État 8, Action 2, Nouvel État 9, Récompense 0.0\n",
      "Étape 4 : État 9, Action 1, Nouvel État 13, Récompense 0.0\n",
      "Étape 5 : État 13, Action 2, Nouvel État 14, Récompense 0.0\n",
      "Étape 6 : État 14, Action 2, Nouvel État 15, Récompense 10\n",
      "Objectif atteint !\n",
      "\n",
      "Épisode 5 :\n",
      "Étape 1 : État 0, Action 1, Nouvel État 4, Récompense 0.0\n",
      "Étape 2 : État 4, Action 1, Nouvel État 8, Récompense 0.0\n",
      "Étape 3 : État 8, Action 2, Nouvel État 9, Récompense 0.0\n",
      "Étape 4 : État 9, Action 1, Nouvel État 13, Récompense 0.0\n",
      "Étape 5 : État 13, Action 2, Nouvel État 14, Récompense 0.0\n",
      "Étape 6 : État 14, Action 2, Nouvel État 15, Récompense 10\n",
      "Objectif atteint !\n",
      "\n",
      "Épisode 6 :\n",
      "Étape 1 : État 0, Action 1, Nouvel État 4, Récompense 0.0\n",
      "Étape 2 : État 4, Action 1, Nouvel État 8, Récompense 0.0\n",
      "Étape 3 : État 8, Action 2, Nouvel État 9, Récompense 0.0\n",
      "Étape 4 : État 9, Action 1, Nouvel État 13, Récompense 0.0\n",
      "Étape 5 : État 13, Action 2, Nouvel État 14, Récompense 0.0\n",
      "Étape 6 : État 14, Action 2, Nouvel État 15, Récompense 10\n",
      "Objectif atteint !\n",
      "\n",
      "Épisode 7 :\n",
      "Étape 1 : État 0, Action 1, Nouvel État 4, Récompense 0.0\n",
      "Étape 2 : État 4, Action 1, Nouvel État 8, Récompense 0.0\n",
      "Étape 3 : État 8, Action 2, Nouvel État 9, Récompense 0.0\n",
      "Étape 4 : État 9, Action 1, Nouvel État 13, Récompense 0.0\n",
      "Étape 5 : État 13, Action 2, Nouvel État 14, Récompense 0.0\n",
      "Étape 6 : État 14, Action 2, Nouvel État 15, Récompense 10\n",
      "Objectif atteint !\n",
      "\n",
      "Épisode 8 :\n",
      "Étape 1 : État 0, Action 1, Nouvel État 4, Récompense 0.0\n",
      "Étape 2 : État 4, Action 1, Nouvel État 8, Récompense 0.0\n",
      "Étape 3 : État 8, Action 2, Nouvel État 9, Récompense 0.0\n",
      "Étape 4 : État 9, Action 1, Nouvel État 13, Récompense 0.0\n",
      "Étape 5 : État 13, Action 2, Nouvel État 14, Récompense 0.0\n",
      "Étape 6 : État 14, Action 2, Nouvel État 15, Récompense 10\n",
      "Objectif atteint !\n",
      "\n",
      "Épisode 9 :\n",
      "Étape 1 : État 0, Action 1, Nouvel État 4, Récompense 0.0\n",
      "Étape 2 : État 4, Action 1, Nouvel État 8, Récompense 0.0\n",
      "Étape 3 : État 8, Action 2, Nouvel État 9, Récompense 0.0\n",
      "Étape 4 : État 9, Action 1, Nouvel État 13, Récompense 0.0\n",
      "Étape 5 : État 13, Action 2, Nouvel État 14, Récompense 0.0\n",
      "Étape 6 : État 14, Action 2, Nouvel État 15, Récompense 10\n",
      "Objectif atteint !\n",
      "\n",
      "Épisode 10 :\n",
      "Étape 1 : État 0, Action 1, Nouvel État 4, Récompense 0.0\n",
      "Étape 2 : État 4, Action 1, Nouvel État 8, Récompense 0.0\n",
      "Étape 3 : État 8, Action 2, Nouvel État 9, Récompense 0.0\n",
      "Étape 4 : État 9, Action 1, Nouvel État 13, Récompense 0.0\n",
      "Étape 5 : État 13, Action 2, Nouvel État 14, Récompense 0.0\n",
      "Étape 6 : État 14, Action 2, Nouvel État 15, Récompense 10\n",
      "Objectif atteint !\n"
     ]
    }
   ],
   "source": [
    "# Évaluation avec visualisation de la trajectoire pour observer le comportement de l'agent\n",
    "num_tests = 10  # Réduire le nombre de tests pour observer les trajectoires\n",
    "max_steps_per_episode = 100\n",
    "success_count = 0\n",
    "\n",
    "for episode in range(num_tests):\n",
    "    state = env.reset()\n",
    "    if isinstance(state, tuple):\n",
    "        state = state[0]\n",
    "    done = False\n",
    "    success = False\n",
    "    print(f\"\\nÉpisode {episode + 1} :\")\n",
    "\n",
    "    for step in range(max_steps_per_episode):\n",
    "        # Choisir l'action optimale\n",
    "        action = np.argmax(qtable[state])\n",
    "\n",
    "        # Exécuter l'action et observer les résultats\n",
    "        new_state, reward, done, truncated, _ = env.step(action)\n",
    "        if isinstance(new_state, tuple):\n",
    "            new_state = new_state[0]\n",
    "\n",
    "        # Identifier le type de case et ajuster la récompense pour correspondre à `custom_grid`\n",
    "        row, col = new_state // 4, new_state % 4\n",
    "        cell_type = custom_grid[row, col]\n",
    "\n",
    "        # Appliquer les récompenses personnalisées\n",
    "        if cell_type == \"G\":   # Objectif atteint\n",
    "            reward = 10\n",
    "        elif cell_type == \"H\": # Trou\n",
    "            reward = -10\n",
    "        elif cell_type == \"P\": # Power-up\n",
    "            reward = 1.5\n",
    "        elif cell_type == \"T\": # Piège\n",
    "            reward = -1\n",
    "        elif cell_type == \"W\": # Mur\n",
    "            reward = -0.5\n",
    "            new_state = state  # L'agent reste sur sa case actuelle\n",
    "\n",
    "        # Afficher la position et l'action de l'agent avec la récompense ajustée\n",
    "        print(f\"Étape {step + 1} : État {state}, Action {action}, Nouvel État {new_state}, Récompense {reward}\")\n",
    "\n",
    "        # Vérifier si l'agent atteint l'objectif\n",
    "        if done and cell_type == \"G\":\n",
    "            success = True\n",
    "            print(\"Objectif atteint !\")\n",
    "            break\n",
    "        elif done:\n",
    "            print(\"Échec (trou ou obstacle rencontré)\")\n",
    "            break\n",
    "\n",
    "        # Passer au nouvel état\n",
    "        state = new_state\n",
    "\n",
    "    # Compter les succès\n",
    "    if success:\n",
    "        success_count += 1\n"
   ]
  },
  {
   "cell_type": "code",
   "execution_count": 10,
   "id": "9ece753e-c24c-4b13-b046-d262f7525a8c",
   "metadata": {},
   "outputs": [
    {
     "data": {
      "image/png": "[encoded data removed]",
      "text/plain": [
       "<Figure size 1200x500 with 1 Axes>"
      ]
     },
     "metadata": {},
     "output_type": "display_data"
    }
   ],
   "source": [
    "# Taille des groupes pour l'agrégation (ajustable)\n",
    "window_size = 100\n",
    "\n",
    "# Calculer la moyenne des étapes pour chaque groupe\n",
    "avg_steps = [np.mean(steps_total[i:i + window_size]) for i in range(0, len(steps_total), window_size)]\n",
    "\n",
    "# Création du graphique avec les données groupées\n",
    "plt.figure(figsize=(12, 5))\n",
    "plt.title(\"Average Steps per Episode (Grouped by 100)\")\n",
    "plt.bar(range(len(avg_steps)), avg_steps, alpha=0.6, color='red', width=0.8)\n",
    "plt.xlabel(\"Episode Group (Size = 100)\")\n",
    "plt.ylabel(\"Average Steps per Episode\")\n",
    "plt.show()\n"
   ]
  },
  {
   "cell_type": "markdown",
   "id": "4485eefe-8355-4f21-b8df-0e7eb419e224",
   "metadata": {},
   "source": [
    "Le graphique ci-dessus montre la moyenne des pas par épisode, regroupée par tranches de 100 épisodes. Cela permet de suivre l'évolution de l'efficacité de l'agent à travers le temps."
   ]
  },
  {
   "cell_type": "code",
   "execution_count": 11,
   "id": "ce95f512-a393-4261-9080-41d927b163ea",
   "metadata": {},
   "outputs": [
    {
     "data": {
      "image/png": "[encoded data removed]",
      "text/plain": [
       "<Figure size 1200x500 with 1 Axes>"
      ]
     },
     "metadata": {},
     "output_type": "display_data"
    }
   ],
   "source": [
    "# Visualisation de la valeur epsilon-greedy par épisode\n",
    "plt.figure(figsize=(12, 5))\n",
    "plt.title(\"Egreedy Value Over Episodes\")\n",
    "plt.bar(range(len(egreedy_total)), egreedy_total, alpha=0.6, color='blue', width=5)\n",
    "plt.xlabel(\"Episodes\")\n",
    "plt.ylabel(\"Egreedy Value (epsilon)\")\n",
    "plt.show()\n"
   ]
  },
  {
   "cell_type": "markdown",
   "id": "8f86c25c-bedc-4465-b610-8635ea71899e",
   "metadata": {},
   "source": [
    "Ce graphique illustre l'évolution de la valeur epsilon (taux d'exploration) au fil des épisodes. Il montre comment l'agent réduit progressivement l'exploration pour se concentrer sur l'exploitation de la meilleure stratégie apprise."
   ]
  },
  {
   "cell_type": "markdown",
   "id": "5d99818c-0d5c-4bc1-b576-d8e7ad4e1997",
   "metadata": {},
   "source": [
    "## Étape 4 : Évaluation de la Politique Apprise"
   ]
  },
  {
   "cell_type": "code",
   "execution_count": 13,
   "id": "70b8ecd6-05ca-4912-9199-23f9b45679fc",
   "metadata": {},
   "outputs": [
    {
     "name": "stdout",
     "output_type": "stream",
     "text": [
      "Taux de réussite de la politique apprise : 100.0%\n"
     ]
    }
   ],
   "source": [
    "# Évaluation de la politique apprise\n",
    "total_success = 0\n",
    "num_tests = 100  # Nombre d'épisodes de test\n",
    "max_steps_per_episode = 100\n",
    "\n",
    "for episode in range(num_tests):\n",
    "    state = env.reset()\n",
    "    if isinstance(state, tuple):\n",
    "        state = state[0]\n",
    "    done = False\n",
    "\n",
    "    for step in range(max_steps_per_episode):\n",
    "        # Choisir l'action optimale en suivant la table Q\n",
    "        action = np.argmax(qtable[state])\n",
    "\n",
    "        # Exécuter l'action et observer le résultat\n",
    "        new_state, reward, done, truncated, _ = env.step(action)\n",
    "        if isinstance(new_state, tuple):\n",
    "            new_state = new_state[0]\n",
    "\n",
    "        # Passer au nouvel état\n",
    "        state = new_state\n",
    "\n",
    "        # Vérifier si l'agent atteint l'objectif\n",
    "        if done and reward == 1:  # Si l'objectif est atteint\n",
    "            total_success += 1\n",
    "            break\n",
    "        elif done:  # Si l'agent tombe dans un trou\n",
    "            break\n",
    "\n",
    "# Calcul du taux de réussite\n",
    "success_rate = total_success / num_tests * 100\n",
    "print(f\"Taux de réussite de la politique apprise : {success_rate}%\")\n"
   ]
  },
  {
   "cell_type": "markdown",
   "id": "325c78de-86bb-4d88-a038-f5e2d7c9901d",
   "metadata": {},
   "source": [
    "### Visualisation de la Politique Apprise"
   ]
  },
  {
   "cell_type": "markdown",
   "id": "c306ee3f-c94e-41a9-974a-9e74e9a22d3c",
   "metadata": {},
   "source": [
    "On va essayer d'observer le déplacement de l'agent en temps réel dans l'environnement en suivant la politique apprise (les actions optimales)."
   ]
  },
  {
   "cell_type": "code",
   "execution_count": 14,
   "id": "0c851109-941b-4347-b717-66ab47545f1e",
   "metadata": {},
   "outputs": [],
   "source": [
    "# Initialisation de Pygame\n",
    "pygame.init()\n",
    "screen = pygame.display.set_mode((400, 400))  # Ajustez la taille en fonction de vos besoins\n",
    "pygame.display.set_caption(\"Visualisation de la politique apprise\")\n",
    "\n",
    "# Boucle de visualisation\n",
    "state = env.reset()\n",
    "if isinstance(state, tuple):\n",
    "    state = state[0]\n",
    "done = False\n",
    "\n",
    "# Affichage de la grille et déplacement de l'agent\n",
    "while not done:\n",
    "    screen.fill((0, 0, 0))  # Remplir l'écran avec une couleur de fond\n",
    "\n",
    "    # Afficher la grille et la position de l'agent\n",
    "    draw_custom_grid(agent_pos=state)\n",
    "    pygame.display.flip()\n",
    "    pygame.time.delay(300)  # Pause pour observer le déplacement\n",
    "\n",
    "    # Choisir l'action optimale en suivant la table Q\n",
    "    action = np.argmax(qtable[state])\n",
    "\n",
    "    # Exécuter l'action et observer le nouvel état\n",
    "    new_state, reward, done, truncated, _ = env.step(action)\n",
    "    if isinstance(new_state, tuple):\n",
    "        new_state = new_state[0]\n",
    "\n",
    "    # Mettre à jour la position de l'agent\n",
    "    state = new_state\n",
    "\n",
    "    # Fin de l'affichage si l'agent atteint l'objectif ou tombe dans un trou\n",
    "    if done:\n",
    "        draw_custom_grid(agent_pos=state)\n",
    "        pygame.display.flip()\n",
    "        pygame.time.delay(1000)\n",
    "        break\n",
    "\n",
    "# Quitter Pygame correctement après la visualisation\n",
    "pygame.quit()\n"
   ]
  },
  {
   "cell_type": "markdown",
   "id": "d1483c32-f405-4621-bd44-05edecf163ce",
   "metadata": {},
   "source": [
    "Ce code évalue la performance de l'agent en exécutant plusieurs essais après l'entraînement, en utilisant la table Q apprise. L'objectif est de mesurer la capacité de l'agent à atteindre l'objectif final sans tomber dans un trou, tout en évitant les obstacles. Les récompenses sont adaptées en fonction du type de case (objectif, trou, power-up, piège ou mur) pour refléter les règles personnalisées de l'environnement.\n",
    "\n",
    "Pour chaque essai, l'agent commence dans l'état initial et prend des décisions en fonction de la stratégie optimale déterminée par la table Q. \n",
    "Le code enregistre le succès ou l'échec de chaque run et le nombre de pas effectués avant de terminer l'essai. À la fin des essais, deux graphiques sont générés :\n",
    "- Un graphique des succès et échecs au cours des différents essais.\n",
    "- Un graphique du nombre de pas nécessaires pour atteindre l'objectif dans les essais réussis."
   ]
  },
  {
   "cell_type": "code",
   "execution_count": 9,
   "id": "8b23d526-df0b-4ab8-9385-f728c3c1f91c",
   "metadata": {},
   "outputs": [
    {
     "data": {
      "image/png": "[encoded data removed]",
      "text/plain": [
       "<Figure size 1200x500 with 1 Axes>"
      ]
     },
     "metadata": {},
     "output_type": "display_data"
    },
    {
     "data": {
      "image/png": "[encoded data removed]",
      "text/plain": [
       "<Figure size 1200x500 with 1 Axes>"
      ]
     },
     "metadata": {},
     "output_type": "display_data"
    }
   ],
   "source": [
    "# Performance de l'Agent : Succès vs Échec au cours de plusieurs essais\n",
    "num_tests = 100  # Nombre de runs pour évaluer la performance\n",
    "max_steps_per_episode = 20  # Limite du nombre de pas par épisode\n",
    "results = []\n",
    "steps_taken = []\n",
    "\n",
    "for _ in range(num_tests):\n",
    "    state = env.reset()\n",
    "    if isinstance(state, tuple):\n",
    "        state = state[0]\n",
    "    done = False\n",
    "    success = False\n",
    "    step_count = 0\n",
    "\n",
    "    while not done and step_count < max_steps_per_episode:\n",
    "        action = np.argmax(qtable[state])\n",
    "        new_state, reward, done, truncated, _ = env.step(action)\n",
    "        \n",
    "        # Appliquer les récompenses personnalisées basées sur le type de case\n",
    "        row, col = new_state // 4, new_state % 4  # Convertir l'état en coordonnées de grille\n",
    "        cell_type = custom_grid[row, col]\n",
    "        \n",
    "        if cell_type == \"G\":   # Objectif atteint\n",
    "            reward = 10\n",
    "            success = True\n",
    "        elif cell_type == \"H\": # Trou\n",
    "            reward = -10\n",
    "        elif cell_type == \"P\": # Power-up\n",
    "            reward = 1.5\n",
    "        elif cell_type == \"T\": # Piège\n",
    "            reward = -1\n",
    "        elif cell_type == \"W\": # Mur\n",
    "            reward = -0.5\n",
    "            new_state = state  # Bloque le mouvement si un mur est rencontré\n",
    "\n",
    "        # Mise à jour de l'état si l'agent n'a pas rencontré un mur\n",
    "        if cell_type != \"W\":\n",
    "            state = new_state\n",
    "        step_count += 1\n",
    "\n",
    "        # Si l'agent atteint l'objectif, arrêter l'épisode\n",
    "        if success:\n",
    "            break\n",
    "\n",
    "    results.append(\"Success\" if success else \"Failure\")\n",
    "    steps_taken.append(step_count)\n",
    "\n",
    "# Convertir les résultats en données numériques pour le graphique\n",
    "outcome_numeric = [1 if outcome == \"Success\" else 0 for outcome in results]\n",
    "\n",
    "# Création du graphique de Succès/Échec\n",
    "plt.figure(figsize=(12, 5))\n",
    "plt.bar(range(num_tests), outcome_numeric, color=['darkblue'])\n",
    "plt.yticks([0, 1], [\"Failure\", \"Success\"])\n",
    "plt.xlabel(\"Run number\")\n",
    "plt.ylabel(\"Outcome\")\n",
    "plt.title(\"Agent Performance: Success vs. Failure Over Multiple Runs\")\n",
    "\n",
    "# Création du graphique des pas par run pour les succès uniquement\n",
    "success_steps = [steps_taken[i] if results[i] == \"Success\" else None for i in range(num_tests)]\n",
    "plt.figure(figsize=(12, 5))\n",
    "plt.plot(range(num_tests), success_steps, 'g-', label=\"Steps for Success Runs\")\n",
    "plt.xlabel(\"Run number\")\n",
    "plt.ylabel(\"Number of Steps\")\n",
    "plt.title(\"Number of Steps in Successful Runs\")\n",
    "plt.legend()\n",
    "plt.show()\n"
   ]
  },
  {
   "cell_type": "markdown",
   "id": "f6ae6bb1-b9ac-4e3d-816b-7972857c1bb7",
   "metadata": {},
   "source": [
    "Ce code vise à visualiser l'évolution des performances de l'agent au fil des épisodes en traçant une moyenne mobile du taux de succès. Après l'entraînement, chaque épisode est considéré comme un succès si l'agent atteint l'objectif (récompense > 0) et comme un échec sinon.\n",
    "\n",
    "Pour lisser les fluctuations et observer une tendance plus claire, le taux de succès est calculé avec une moyenne mobile d'une fenêtre de taille prédéfinie (window_size = 1000). Cette moyenne mobile permet de visualiser la progression globale de l'agent, mettant en évidence les améliorations et les fluctuations de sa performance au fil du temps.\n",
    "\n",
    "Le graphique final montre la tendance du taux de succès en fonction des épisodes, offrant ainsi une vue d'ensemble de l'apprentissage de l'agent tout au long de son entraînement."
   ]
  },
  {
   "cell_type": "code",
   "execution_count": 10,
   "id": "fd029c46-1020-434e-959e-18edf3ead341",
   "metadata": {},
   "outputs": [
    {
     "data": {
      "image/png": "[encoded data removed]",
      "text/plain": [
       "<Figure size 1000x600 with 1 Axes>"
      ]
     },
     "metadata": {},
     "output_type": "display_data"
    }
   ],
   "source": [
    "# Paramètres pour la moyenne mobile\n",
    "window_size = 1000  # Taille de la fenêtre de la moyenne mobile\n",
    "\n",
    "# Convertir les récompenses en taux de succès : succès (1) si récompense > 0, sinon échec (0)\n",
    "success_rate = [1 if reward > 0 else 0 for reward in rewards_total]\n",
    "\n",
    "# Calcul de la moyenne mobile du taux de succès\n",
    "moving_average = np.convolve(success_rate, np.ones(window_size) / window_size, mode='valid')\n",
    "\n",
    "# Tracer le graphique\n",
    "plt.figure(figsize=(10, 6))\n",
    "plt.plot(moving_average)\n",
    "plt.title(f\"Expected reward with a moving average with window size = {window_size}\")\n",
    "plt.xlabel(\"Episode Idx\")\n",
    "plt.ylabel(\"Success Rate\")\n",
    "plt.show()\n"
   ]
  }
 ],
 "metadata": {
  "kernelspec": {
   "display_name": "Python 3 (ipykernel)",
   "language": "python",
   "name": "python3"
  },
  "language_info": {
   "codemirror_mode": {
    "name": "ipython",
    "version": 3
   },
   "file_extension": ".py",
   "mimetype": "text/x-python",
   "name": "python",
   "nbconvert_exporter": "python",
   "pygments_lexer": "ipython3",
   "version": "3.8.20"
  }
 },
 "nbformat": 4,
 "nbformat_minor": 5
}
